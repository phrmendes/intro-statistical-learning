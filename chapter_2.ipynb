{
 "cells": [
  {
   "cell_type": "markdown",
   "id": "1bff25bb-b93c-476b-90c8-cc265ab675d1",
   "metadata": {},
   "source": [
    "# Introduction to Statistical Learning ("
   ]
  }
 ],
 "metadata": {
  "kernelspec": {
   "display_name": "Python 3 (ipykernel)",
   "language": "python",
   "name": "python3"
  },
  "language_info": {
   "codemirror_mode": {
    "name": "ipython",
    "version": 3
   },
   "file_extension": ".py",
   "mimetype": "text/x-python",
   "name": "python",
   "nbconvert_exporter": "python",
   "pygments_lexer": "ipython3",
   "version": "3.11.3"
  }
 },
 "nbformat": 4,
 "nbformat_minor": 5
}
