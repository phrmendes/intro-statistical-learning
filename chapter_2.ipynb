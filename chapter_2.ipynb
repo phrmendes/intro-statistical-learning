{
 "cells": [
  {
   "cell_type": "markdown",
   "id": "1bff25bb-b93c-476b-90c8-cc265ab675d1",
   "metadata": {},
   "source": [
    "# An Introduction to Statistical Learning - Chapter 2"
   ]
  },
  {
   "cell_type": "markdown",
   "id": "5fc98f63-7920-4c4a-8d32-b8639fb296ca",
   "metadata": {},
   "source": [
    "## Conceptual"
   ]
  },
  {
   "cell_type": "markdown",
   "id": "37c51e99-d728-454c-b8f6-02057185aa2c",
   "metadata": {},
   "source": [
    "### 1)\n",
    "\n",
    "For each of parts (a) through (d), indicate whether we would generally expect the performance of a flexible statistical learning method to be better or worse than an inflexible method. Justify your answer. \n",
    "\n",
    "- (a) The sample size n is extremely large, and the number of predictors p is small.\n",
    "- (b) The number of predictors p is extremely large, and the number of observations n is small.\n",
    "- (c) The relationship between the predictors and response is highly non-linear.\n",
    "- (d) The variance of the error terms, i.e. $\\sigma^2 = Var(\\varepsilon)$, is extremely high."
   ]
  },
  {
   "cell_type": "markdown",
   "id": "81d5a828-12db-44ef-bfcf-8306d99f8a56",
   "metadata": {},
   "source": [
    "### 2) \n",
    "\n",
    "Explain whether each scenario is a classification or regression problem, and indicate whether we are most interested in inference or prediction. Finally, provide *n* and *p*. \n",
    "\n",
    "- (a) We collect a set of data on the top 500 firms in the US. For each firm we record profit, number of employees, industry and the CEO salary. We are interested in understanding which factors affect CEO salary.\n",
    "- (b) We are considering launching a new product and wish to know whether it will be a success or a failure. We collect data on 20 similar products that were previously launched. For each product we have recorded whether it was a success or failure, price charged for the product, marketing budget, competition price, and ten other variables.\n",
    "- (c) We are interested in predicting the % change in the USD/Euro exchange rate in relation to the weekly changes in the world stock markets. Hence we collect weekly data for all of 2012. For each week we record the % change in the USD/Euro, the % change in the US market, the % change in the British market, and the % change in the German market. "
   ]
  },
  {
   "cell_type": "markdown",
   "id": "1eec5cb9-065e-4a94-a6e9-c0beedb6d035",
   "metadata": {},
   "source": [
    "### 3) \n",
    "\n",
    "We now revisit the bias-variance decomposition. \n",
    "- (a) Provide a sketch of typical (squared) bias, variance, training error, test error, and Bayes (or irreducible) error curves, on a single plot, as we go from less flexible statistical learning methods towards more flexible approaches. The x-axis should represent the amount of flexibility in the method, and the y-axis should represent the values for each curve. There should be five curves. Make sure to label each one. \n",
    "- (b) Explain why each of the five curves has the shape displayed in part (a). "
   ]
  },
  {
   "cell_type": "markdown",
   "id": "015540d7-da4d-43a6-a4d1-a356573512b9",
   "metadata": {},
   "source": [
    "### 4)\n",
    "\n",
    "You will now think of some real-life applications for statistical learning. \n",
    "\n",
    "- (a) Describe three real-life applications in which classification might be useful. Describe the response, as well as the predictors. Is the goal of each application inference or prediction? Explain your answer. \n",
    "- (b) Describe three real-life applications in which regression might be useful. Describe the response, as well as the predictors. Is the goal of each application inference or prediction? Explain your answer. \n",
    "- (c) Describe three real-life applications in which cluster analysis might be useful. "
   ]
  },
  {
   "cell_type": "markdown",
   "id": "8a914e99-7c7a-4e0f-9ea8-fd9d6a35cb75",
   "metadata": {},
   "source": [
    "### 5)\n",
    "\n",
    "What are the advantages and disadvantages of a very flexible (versus a less flexible) approach for regression or classification? Under what circumstances might a more flexible approach be preferred to a less flexible approach? When might a less flexible approach be preferred? "
   ]
  },
  {
   "cell_type": "markdown",
   "id": "a79e42b7-fe3c-422b-a89e-b98bd4beb65a",
   "metadata": {},
   "source": [
    "### 6)\n",
    "\n",
    "Describe the differences between a parametric and a non-parametric statistical learning approach. What are the advantages of a parametric approach to regression or classification (as opposed to a nonparametric approach)? What are its disadvantages?"
   ]
  },
  {
   "cell_type": "markdown",
   "id": "727cedaf-4d77-4764-8705-051bfbf77889",
   "metadata": {},
   "source": [
    "### 7)\n",
    "\n",
    "The table below provides a training data set containing six observations, three predictors, and one qualitative response variable.\n",
    "\n",
    "| Obs | $X_1$ | $X_2$ | $X_3$ | $Y$   |\n",
    "|-----|-------|-------|-------|-------|\n",
    "| 1   | 0     | 3     | 0     | Red   |\n",
    "| 2   | 2     | 0     | 0     | Red   |\n",
    "| 3   | 0     | 1     | 3     | Red   |\n",
    "| 4   | 0     | 1     | 2     | Green |\n",
    "| 5   | -1    | 0     | 1     | Green |\n",
    "| 6   | 1     | 1     | 1     | Red   |\n",
    "\n",
    "Suppose we wish to use this data set to make a prediction for $Y$ when $X_1 = X_2 = X_3 = 0$ using K-nearest neighbors. \n",
    "\n",
    "- (a) Compute the Euclidean distance between each observation and the test point, $X_1 = X_2 = X_3 = 0$.\n",
    "- (b) What is our prediction with $K = 1$? Why?\n",
    "- (c) What is our prediction with $K = 3$? Why?\n",
    "- (d) If the Bayes decision boundary in this problem is highly nonlinear, then would we expect the best value for $K$ to be large or small? Why? "
   ]
  }
 ],
 "metadata": {
  "kernelspec": {
   "display_name": "Python 3 (ipykernel)",
   "language": "python",
   "name": "python3"
  },
  "language_info": {
   "codemirror_mode": {
    "name": "ipython",
    "version": 3
   },
   "file_extension": ".py",
   "mimetype": "text/x-python",
   "name": "python",
   "nbconvert_exporter": "python",
   "pygments_lexer": "ipython3",
   "version": "3.11.3"
  }
 },
 "nbformat": 4,
 "nbformat_minor": 5
}
