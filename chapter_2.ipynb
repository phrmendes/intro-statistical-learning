{
 "cells": [
  {
   "cell_type": "markdown",
   "id": "eb9c7675-1998-4f25-b888-047f2f079f60",
   "metadata": {},
   "source": [
    "# An Introduction to Statistical Learning - Chapter 2"
   ]
  },
  {
   "cell_type": "markdown",
   "id": "f7d54a1c-de18-4c8a-ba83-9411b2be1e0c",
   "metadata": {},
   "source": [
    "James, G., Witten, D., Hastie, T., & Tibshirani, R. (2023). An introduction to statistical learning (Second edition). Springer. https://doi.org/10.1007/978-1-0716-1418-1"
   ]
  },
  {
   "cell_type": "markdown",
   "id": "767f0474-beca-4fc7-8a8e-20909691eb08",
   "metadata": {},
   "source": [
    "## Conceptual\n",
    "\n",
    "1. For each of parts a. through d., indicate whether we would generally expect the performance of a flexible statistical learning method to be better or worse than an inflexible method. Justify your answer.\n",
    "\n",
    "    a. The sample size n is extremely large, and the number of predictors p is small.\n",
    "    \n",
    "    b. The number of predictors p is extremely large, and the number of observations n is small.\n",
    "    \n",
    "    c. The relationship between the predictors and response is highly non-linear.\n",
    "    \n",
    "    d. The variance of the error terms, i.e. $\\sigma^2=Var(\\epsilon)$, is extremely high."
   ]
  }
 ],
 "metadata": {
  "kernelspec": {
   "display_name": "Python 3 (ipykernel)",
   "language": "python",
   "name": "python3"
  },
  "language_info": {
   "codemirror_mode": {
    "name": "ipython",
    "version": 3
   },
   "file_extension": ".py",
   "mimetype": "text/x-python",
   "name": "python",
   "nbconvert_exporter": "python",
   "pygments_lexer": "ipython3",
   "version": "3.11.3"
  }
 },
 "nbformat": 4,
 "nbformat_minor": 5
}
